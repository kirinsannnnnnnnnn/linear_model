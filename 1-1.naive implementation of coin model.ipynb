{
 "cells": [
  {
   "cell_type": "markdown",
   "metadata": {},
   "source": [
    "# 1-1. 最尤推定を理解する"
   ]
  },
  {
   "cell_type": "code",
   "execution_count": 1,
   "metadata": {},
   "outputs": [],
   "source": [
    "import numpy as np\n",
    "import pandas as pd\n",
    "import matplotlib.pyplot as plt\n",
    "%matplotlib inline\n",
    "from IPython.display import display\n",
    "\n",
    "np.random.seed(1)"
   ]
  },
  {
   "cell_type": "code",
   "execution_count": 2,
   "metadata": {
    "scrolled": true
   },
   "outputs": [
    {
     "data": {
      "image/png": "[encoded data removed]",
      "text/plain": [
       "<Figure size 432x288 with 1 Axes>"
      ]
     },
     "metadata": {
      "needs_background": "light"
     },
     "output_type": "display_data"
    }
   ],
   "source": [
    "# np.random.random()は[0-1]の一様分布\n",
    "plt.hist(np.random.random(10**5), bins=100); plt.show(); plt.close()"
   ]
  },
  {
   "cell_type": "code",
   "execution_count": 3,
   "metadata": {
    "scrolled": true
   },
   "outputs": [
    {
     "data": {
      "text/plain": [
       "array([1, 1, 1, 1, 1, 1, 0, 1, 1, 1, 0, 1, 1, 1, 1, 1, 1, 1, 0, 1, 0, 0,\n",
       "       0, 1, 1, 1, 1, 1, 0, 1, 1, 1, 0, 0, 1, 1, 1, 1, 1, 1, 1, 1, 1, 1,\n",
       "       1, 1, 1, 1, 1, 0, 0, 1, 1, 1, 1, 1, 0, 1, 1, 1, 0, 1, 1, 0, 1, 0,\n",
       "       1, 1, 1, 0, 1, 1, 1, 1, 1, 1, 0, 1, 1, 0, 0, 1, 1, 1, 0, 1, 1, 1,\n",
       "       1, 1, 0, 1, 1, 1, 1, 0, 1, 1, 0, 1])"
      ]
     },
     "metadata": {},
     "output_type": "display_data"
    }
   ],
   "source": [
    "# 表が出やすいコイン\n",
    "p_true = 0.8 # 表が出る確率\n",
    "N = 10**2 # 観測したデータ数\n",
    "\n",
    "# 表なら1, 裏なら0を記録する\n",
    "data = np.random.random(N)\n",
    "data = (data < p_true).astype(int)\n",
    "display(data)"
   ]
  },
  {
   "cell_type": "code",
   "execution_count": 4,
   "metadata": {},
   "outputs": [
    {
     "data": {
      "text/plain": [
       "2.8948022309329027e-24"
      ]
     },
     "metadata": {},
     "output_type": "display_data"
    }
   ],
   "source": [
    "liklihood = np.power(p_true, np.sum(data==1)) \\\n",
    "                * np.power((1-p_true), np.sum(data==0))\n",
    "display(liklihood)"
   ]
  },
  {
   "cell_type": "code",
   "execution_count": 5,
   "metadata": {},
   "outputs": [
    {
     "data": {
      "text/plain": [
       "-54.19912543717845"
      ]
     },
     "metadata": {},
     "output_type": "display_data"
    }
   ],
   "source": [
    "logliklihood = np.log(p_true) * np.sum(data==1) \\\n",
    "                    + np.log(1-p_true) * np.sum(data==0)\n",
    "display(logliklihood)"
   ]
  },
  {
   "cell_type": "code",
   "execution_count": 6,
   "metadata": {},
   "outputs": [],
   "source": [
    "def get_logliklihood_coin(data, p):\n",
    "    \"\"\"\n",
    "    Args:\n",
    "        data[np.array]: コインが表なら1, 裏なら0のデータ\n",
    "        p[float]: コインの表が出る確率\n",
    "    Return:\n",
    "        logliklihood[float]: データの対数尤度\n",
    "    \"\"\"\n",
    "    logliklihood = np.log(p) * np.sum(data==1) \\\n",
    "                    + np.log(1-p) * np.sum(data==0)\n",
    "    return logliklihood"
   ]
  },
  {
   "cell_type": "code",
   "execution_count": 7,
   "metadata": {
    "scrolled": false
   },
   "outputs": [
    {
     "data": {
      "image/png": "[encoded data removed]",
      "text/plain": [
       "<Figure size 432x288 with 1 Axes>"
      ]
     },
     "metadata": {
      "needs_background": "light"
     },
     "output_type": "display_data"
    },
    {
     "data": {
      "image/png": "[encoded data removed]",
      "text/plain": [
       "<Figure size 432x288 with 1 Axes>"
      ]
     },
     "metadata": {
      "needs_background": "light"
     },
     "output_type": "display_data"
    },
    {
     "data": {
      "text/plain": [
       "-53.92992791716482"
      ]
     },
     "metadata": {},
     "output_type": "display_data"
    },
    {
     "data": {
      "text/plain": [
       "0.7671414141414141"
      ]
     },
     "metadata": {},
     "output_type": "display_data"
    }
   ],
   "source": [
    "LL_list = []\n",
    "epsilon = 10**(-3)\n",
    "i_hat = 0\n",
    "p_space = np.linspace(epsilon,1-epsilon,100)\n",
    "\n",
    "for i in range(p_space.shape[0]):\n",
    "    LL = get_logliklihood_coin(data, p_space[i])\n",
    "    LL_list.append(LL)\n",
    "    if LL_list[i] > LL_list[i_hat]:\n",
    "        i_hat = i\n",
    "\n",
    "ymin, ymax = min(LL_list[1], LL_list[-1]),LL_list[i_hat]+100\n",
    "plt.plot(p_space, LL_list)\n",
    "plt.vlines(x = p_true, ymin=ymin, ymax=ymax)\n",
    "plt.ylim(ymin, ymax)\n",
    "plt.show(); plt.close()\n",
    "\n",
    "plt.plot(p_space, LL_list)\n",
    "plt.vlines(x = p_true, ymin=ymin, ymax=ymax, color=\"black\")\n",
    "plt.vlines(x = p_space[i_hat], ymin=ymin, ymax=ymax, color=\"r\")\n",
    "plt.ylim(LL_list[i_hat]-2,LL_list[i_hat]+2)\n",
    "plt.show(); plt.close()\n",
    "\n",
    "display(LL_list[i_hat], p_space[i_hat])"
   ]
  },
  {
   "cell_type": "code",
   "execution_count": 8,
   "metadata": {
    "scrolled": true
   },
   "outputs": [
    {
     "data": {
      "text/plain": [
       "(76, -53.92992791716482)"
      ]
     },
     "execution_count": 8,
     "metadata": {},
     "output_type": "execute_result"
    }
   ],
   "source": [
    "i_hat, LL_list[i_hat]"
   ]
  },
  {
   "cell_type": "code",
   "execution_count": 9,
   "metadata": {},
   "outputs": [
    {
     "data": {
      "text/plain": [
       "(-53.92992791716482, 0.7671414141414141)"
      ]
     },
     "execution_count": 9,
     "metadata": {},
     "output_type": "execute_result"
    }
   ],
   "source": [
    "LL_list[i_hat], p_space[i_hat]"
   ]
  },
  {
   "cell_type": "code",
   "execution_count": null,
   "metadata": {},
   "outputs": [],
   "source": []
  }
 ],
 "metadata": {
  "kernelspec": {
   "display_name": "Python 3",
   "language": "python",
   "name": "python3"
  },
  "language_info": {
   "codemirror_mode": {
    "name": "ipython",
    "version": 3
   },
   "file_extension": ".py",
   "mimetype": "text/x-python",
   "name": "python",
   "nbconvert_exporter": "python",
   "pygments_lexer": "ipython3",
   "version": "3.6.7"
  }
 },
 "nbformat": 4,
 "nbformat_minor": 2
}
