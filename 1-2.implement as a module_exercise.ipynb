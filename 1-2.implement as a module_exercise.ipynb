{
 "cells": [
  {
   "cell_type": "markdown",
   "metadata": {},
   "source": [
    "# 1-2. 実際に手を動かして理解を深める"
   ]
  },
  {
   "cell_type": "code",
   "execution_count": null,
   "metadata": {},
   "outputs": [],
   "source": [
    "import numpy as np\n",
    "import pandas as pd\n",
    "import matplotlib.pyplot as plt\n",
    "%matplotlib inline\n",
    "from IPython.display import display\n",
    "\n",
    "np.random.seed(1)"
   ]
  },
  {
   "cell_type": "code",
   "execution_count": null,
   "metadata": {},
   "outputs": [],
   "source": [
    "class NaiveModelFrame:\n",
    "    def __init__(self):\n",
    "        self.params={}\n",
    "    \n",
    "    def fit(self, x, t):\n",
    "        \"\"\"\n",
    "        input, labelを受け取って、パラメータを求める\n",
    "        \"\"\"\n",
    "        \n",
    "    def predict(self, data):\n",
    "        \"\"\"\n",
    "        inputを受け取って、fitで求めたパラメータを使って推測したlabelを返す\n",
    "        \"\"\"\n",
    "        predicted_label = data\n",
    "        return predicted_label"
   ]
  },
  {
   "cell_type": "code",
   "execution_count": null,
   "metadata": {},
   "outputs": [],
   "source": [
    "class MaximumLiklihoodModel(NaiveModelFrame):\n",
    "    def __init__(self):\n",
    "        super(MaximumLiklihoodModel, self).__init__()\n",
    "    \n",
    "    def fit(self):\n",
    "        pass\n",
    "\n",
    "    # predictは今回は無い"
   ]
  },
  {
   "cell_type": "markdown",
   "metadata": {},
   "source": [
    "## 使ってみる"
   ]
  },
  {
   "cell_type": "code",
   "execution_count": null,
   "metadata": {},
   "outputs": [],
   "source": [
    "import numpy as np\n",
    "import pandas as pd\n",
    "import matplotlib.pyplot as plt\n",
    "%matplotlib inline\n",
    "from IPython.display import display"
   ]
  },
  {
   "cell_type": "code",
   "execution_count": null,
   "metadata": {},
   "outputs": [],
   "source": [
    "#### データ準備 ###\n",
    "# 表が出やすいコイン\n",
    "p_true = 0.5 # 表が出る確率\n",
    "N = 10**3 # 観測したデータ数\n",
    "data = (np.random.random(N)<p_true).astype(int) # 表なら1, 裏なら0を記録する"
   ]
  },
  {
   "cell_type": "code",
   "execution_count": null,
   "metadata": {},
   "outputs": [],
   "source": [
    "coinModel = MaximumLiklihoodModel()\n",
    "coinModel.fit(data)\n",
    "# coinModel.show_result()"
   ]
  }
 ],
 "metadata": {
  "kernelspec": {
   "display_name": "Python 3",
   "language": "python",
   "name": "python3"
  },
  "language_info": {
   "codemirror_mode": {
    "name": "ipython",
    "version": 3
   },
   "file_extension": ".py",
   "mimetype": "text/x-python",
   "name": "python",
   "nbconvert_exporter": "python",
   "pygments_lexer": "ipython3",
   "version": "3.6.7"
  }
 },
 "nbformat": 4,
 "nbformat_minor": 2
}
