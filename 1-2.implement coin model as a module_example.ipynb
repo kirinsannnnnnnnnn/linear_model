{
 "cells": [
  {
   "cell_type": "markdown",
   "metadata": {},
   "source": [
    "# 実装例"
   ]
  },
  {
   "cell_type": "code",
   "execution_count": 1,
   "metadata": {},
   "outputs": [],
   "source": [
    "import numpy as np\n",
    "import pandas as pd\n",
    "import matplotlib.pyplot as plt\n",
    "%matplotlib inline\n",
    "from IPython.display import display\n",
    "\n",
    "np.random.seed(1)"
   ]
  },
  {
   "cell_type": "code",
   "execution_count": 2,
   "metadata": {},
   "outputs": [],
   "source": [
    "class ModelFrame:\n",
    "    def __init__(self):\n",
    "        self.param={}\n",
    "    \n",
    "    def fit(self, x, t):\n",
    "        \"\"\"\n",
    "        input, labelを受け取って、パラメータを求める\n",
    "        \"\"\"\n",
    "        pass\n",
    "    \n",
    "    def predict(self, data):\n",
    "        \"\"\"\n",
    "        inputを受け取って、fitで求めたパラメータを使って推測したlabelを返す\n",
    "        \"\"\"\n",
    "        pass\n",
    "    \n",
    "    def show_result(self):\n",
    "        \"\"\"\n",
    "        結果をわかりやすく表示する\n",
    "        必要があればレポートを自動生成したりする\n",
    "        \"\"\"\n",
    "        pass"
   ]
  },
  {
   "cell_type": "code",
   "execution_count": 3,
   "metadata": {},
   "outputs": [],
   "source": [
    "class MaximumLiklihoodModel(ModelFrame):\n",
    "    def __init__(self):\n",
    "        super(MaximumLiklihoodModel, self).__init__()\n",
    "        self.LL_list =[]\n",
    "    \n",
    "    def __get_logliklihood_coin(self, data, p):\n",
    "        \"\"\"\n",
    "        Args:\n",
    "            data[np.array]: コインが表なら1, 裏なら0のデータ\n",
    "            p[float]: コインの表が出る確率\n",
    "        Return:\n",
    "            logliklihood[float]: データの対数尤度\n",
    "        \"\"\"\n",
    "        logliklihood = np.log(p) * np.sum(data==1) \\\n",
    "                        + np.log(1-p) * np.sum(data==0)\n",
    "        return logliklihood\n",
    "\n",
    "    def fit(self, data):\n",
    "        self.LL_list = []\n",
    "        epsilon = 10**(-3)\n",
    "        self.param[\"i_hat\"] = 0\n",
    "        self.p_space = np.linspace(epsilon,1-epsilon,100)\n",
    "\n",
    "        for i in range(self.p_space.shape[0]):\n",
    "            LL = self.__get_logliklihood_coin(data, self.p_space[i])\n",
    "            self.LL_list.append(LL)\n",
    "            if self.LL_list[i] > self.LL_list[self.param[\"i_hat\"]]:\n",
    "                self.param[\"i_hat\"] = i\n",
    "        self.param[\"probablity_of_coin\"] = self.p_space[self.param[\"i_hat\"]]\n",
    "\n",
    "    def show_result(self):\n",
    "        ymin, ymax = min(self.LL_list[1], self.LL_list[-1]),self.LL_list[self.param[\"i_hat\"]]+100\n",
    "        plt.plot(self.p_space, self.LL_list)\n",
    "        plt.vlines(x = p_true, ymin=ymin, ymax=ymax)\n",
    "        plt.ylim(ymin, ymax)\n",
    "        plt.show(); plt.close()\n",
    "\n",
    "        plt.plot(self.p_space, self.LL_list)\n",
    "        plt.vlines(x = p_true, ymin=ymin, ymax=ymax, color=\"black\")\n",
    "        plt.vlines(x = self.p_space[self.param[\"i_hat\"]], ymin=ymin, ymax=ymax, color=\"r\")\n",
    "        plt.ylim(self.LL_list[self.param[\"i_hat\"]]-2,self.LL_list[self.param[\"i_hat\"]]+2)\n",
    "        plt.show(); plt.close()\n",
    "\n",
    "        print(f\"Maximum LogLiklihood = {self.LL_list[self.param['i_hat']]:.3}\")\n",
    "        print(f\"p_ML = {self.p_space[self.param['i_hat']]:.3}\")"
   ]
  },
  {
   "cell_type": "markdown",
   "metadata": {},
   "source": [
    "## 使ってみる"
   ]
  },
  {
   "cell_type": "code",
   "execution_count": 4,
   "metadata": {},
   "outputs": [
    {
     "data": {
      "image/png": "[encoded data removed]",
      "text/plain": [
       "<Figure size 432x288 with 1 Axes>"
      ]
     },
     "metadata": {
      "needs_background": "light"
     },
     "output_type": "display_data"
    },
    {
     "data": {
      "image/png": "[encoded data removed]",
      "text/plain": [
       "<Figure size 432x288 with 1 Axes>"
      ]
     },
     "metadata": {
      "needs_background": "light"
     },
     "output_type": "display_data"
    },
    {
     "name": "stdout",
     "output_type": "stream",
     "text": [
      "Maximum LogLiklihood = -69.3\n",
      "p_ML = 0.505\n"
     ]
    }
   ],
   "source": [
    "# 表が出やすいコイン\n",
    "p_true = 0.5 # 表が出る確率\n",
    "N = 10**2 # 観測したデータ数\n",
    "\n",
    "# 表なら1, 裏なら0を記録する\n",
    "data = (np.random.random(N)<p_true).astype(int)\n",
    "\n",
    "coinModel = MaximumLiklihoodModel()\n",
    "coinModel.fit(data)\n",
    "coinModel.show_result()"
   ]
  },
  {
   "cell_type": "code",
   "execution_count": null,
   "metadata": {},
   "outputs": [],
   "source": []
  },
  {
   "cell_type": "code",
   "execution_count": null,
   "metadata": {},
   "outputs": [],
   "source": []
  }
 ],
 "metadata": {
  "kernelspec": {
   "display_name": "Python 3",
   "language": "python",
   "name": "python3"
  },
  "language_info": {
   "codemirror_mode": {
    "name": "ipython",
    "version": 3
   },
   "file_extension": ".py",
   "mimetype": "text/x-python",
   "name": "python",
   "nbconvert_exporter": "python",
   "pygments_lexer": "ipython3",
   "version": "3.6.7"
  }
 },
 "nbformat": 4,
 "nbformat_minor": 2
}
